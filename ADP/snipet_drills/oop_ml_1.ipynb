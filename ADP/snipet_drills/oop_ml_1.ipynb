{
 "cells": [
  {
   "cell_type": "code",
   "execution_count": 1,
   "metadata": {},
   "outputs": [
    {
     "ename": "ModuleNotFoundError",
     "evalue": "No module named 'sklearn'",
     "output_type": "error",
     "traceback": [
      "\u001b[1;31m---------------------------------------------------------------------------\u001b[0m",
      "\u001b[1;31mModuleNotFoundError\u001b[0m                       Traceback (most recent call last)",
      "Cell \u001b[1;32mIn[1], line 1\u001b[0m\n\u001b[1;32m----> 1\u001b[0m \u001b[38;5;28;01mfrom\u001b[39;00m \u001b[38;5;21;01msklearn\u001b[39;00m\u001b[38;5;21;01m.\u001b[39;00m\u001b[38;5;21;01mensemble\u001b[39;00m \u001b[38;5;28;01mimport\u001b[39;00m RandomForestClassifier\n\u001b[0;32m      2\u001b[0m \u001b[38;5;28;01mfrom\u001b[39;00m \u001b[38;5;21;01msklearn\u001b[39;00m\u001b[38;5;21;01m.\u001b[39;00m\u001b[38;5;21;01mmodel_selection\u001b[39;00m \u001b[38;5;28;01mimport\u001b[39;00m train_test_split\n\u001b[0;32m      3\u001b[0m \u001b[38;5;28;01mfrom\u001b[39;00m \u001b[38;5;21;01msklearn\u001b[39;00m\u001b[38;5;21;01m.\u001b[39;00m\u001b[38;5;21;01mmetrics\u001b[39;00m \u001b[38;5;28;01mimport\u001b[39;00m accuracy_score\n",
      "\u001b[1;31mModuleNotFoundError\u001b[0m: No module named 'sklearn'"
     ]
    }
   ],
   "source": [
    "import pandas as pd\n",
    "from sklearn.linear_model import LogisticRegression\n",
    "from sklearn.ensemble import RandomForestClassifier\n",
    "from sklearn.model_selection import train_test_split\n",
    "from sklearn.metrics import accuracy_score"
   ]
  },
  {
   "cell_type": "markdown",
   "metadata": {},
   "source": [
    "# 1. 데이터 전처리 클래스(DataPreprocessor)"
   ]
  },
  {
   "cell_type": "code",
   "execution_count": null,
   "metadata": {},
   "outputs": [],
   "source": [
    "class DataPreprocessor:\n",
    "    def __init__(self, df):\n",
    "        # 데이터프레임 초기화\n",
    "        self.df = df\n",
    "\n",
    "    def fill_missing(self, column, value):\n",
    "        # 특정 열의 결측치를 지정된 값으로 채움\n",
    "        self.df[column].fillna(value, inplace=True)\n",
    "\n",
    "    def drop_columns(self, columns):\n",
    "        # 특정 열(들)을 삭제\n",
    "        self.df.drop(columns=columns, inplace=True)\n",
    "\n",
    "    def normalize_column(self, column):\n",
    "        # 특정 열을 0~1 사이로 정규화\n",
    "        min_val = self.df[column].min()\n",
    "        max_val = self.df[column].max()\n",
    "        self.df[column] = (self.df[column] - min_val) / (max_val - min_val)\n",
    "\n",
    "    def get_data(self):\n",
    "        # 전처리가 완료된 데이터프레임 반환\n",
    "        return self.df"
   ]
  },
  {
   "cell_type": "markdown",
   "metadata": {},
   "source": [
    "# 2.  샘플 데이터 생성 및 전처리"
   ]
  },
  {
   "cell_type": "code",
   "execution_count": null,
   "metadata": {},
   "outputs": [],
   "source": [
    "# 샘플 데이터 생성\n",
    "data = {\n",
    "    'age': [25, None, 35, 45, 55],\n",
    "    'income': [4000, 5000, 6000, None, 8000],\n",
    "    'gender': ['M', 'F', None, 'M', 'F']\n",
    "}\n",
    "df = pd.DataFrame(data)\n",
    "\n",
    "# DataPreprocessor 클래스 사용\n",
    "processor = DataPreprocessor(df)\n",
    "processor.fill_missing('age', 30)       # 'age' 열의 결측치를 30으로 채움\n",
    "processor.fill_missing('income', 5000) # 'income' 열의 결측치를 5000으로 채움\n",
    "processor.drop_columns(['gender'])      # 'gender' 열 삭제\n",
    "processor.normalize_column('income')    # 'income' 열 정규화\n",
    "\n",
    "# 전처리된 데이터 출력\n",
    "processed_df = processor.get_data()\n",
    "print(\"전처리된 데이터:\")\n",
    "print(processed_df)"
   ]
  },
  {
   "cell_type": "markdown",
   "metadata": {},
   "source": [
    "# 3. 머신러닝 모델 클래스(MLModel)"
   ]
  },
  {
   "cell_type": "code",
   "execution_count": null,
   "metadata": {},
   "outputs": [],
   "source": [
    "class MLModel:\n",
    "    def __init__(self, model=None):\n",
    "        # 모델 초기화 (기본값으로 RandomForestClassifier 사용)\n",
    "        self.model = model if model else RandomForestClassifier()\n",
    "\n",
    "    def train(self, X, y):\n",
    "        # 데이터를 훈련 세트와 테스트 세트로 분할\n",
    "        self.X_train, self.X_test, self.y_train, self.y_test = train_test_split(\n",
    "            X, y, test_size=0.2, random_state=42\n",
    "        )\n",
    "        # 모델 학습\n",
    "        self.model.fit(self.X_train, self.y_train)\n",
    "\n",
    "    def evaluate(self):\n",
    "        # 테스트 데이터로 예측\n",
    "        predictions = self.model.predict(self.X_test)\n",
    "        # 정확도 계산\n",
    "        accuracy = accuracy_score(self.y_test, predictions)\n",
    "        return accuracy\n",
    "\n",
    "    def predict(self, X):\n",
    "        # 새로운 데이터로 예측\n",
    "        return self.model.predict(X)"
   ]
  },
  {
   "cell_type": "markdown",
   "metadata": {},
   "source": [
    "# 4. 샘플 데이터로 모델 학습 및 평가"
   ]
  },
  {
   "cell_type": "code",
   "execution_count": null,
   "metadata": {},
   "outputs": [],
   "source": [
    "# 샘플 데이터 생성\n",
    "data = {\n",
    "    'feature1': [5, 2, 3, 6, 7, 8, 9, 10, 1, 4],\n",
    "    'feature2': [10, 9, 8, 7, 6, 5, 4, 3, 2, 1],\n",
    "    'target': [0, 1, 0, 1, 1, 0, 0, 1, 0, 1]\n",
    "}\n",
    "df = pd.DataFrame(data)\n",
    "\n",
    "# 독립 변수와 종속 변수 분리\n",
    "X = df[['feature1', 'feature2']]\n",
    "y = df['target']\n",
    "\n",
    "# MLModel 클래스 사용\n",
    "ml_model = MLModel()\n",
    "ml_model.train(X, y)  # 모델 학습\n",
    "accuracy = ml_model.evaluate()  # 모델 평가\n",
    "print(f\"모델 정확도: {accuracy}\")\n",
    "\n",
    "# 새로운 데이터 예측\n",
    "new_data = pd.DataFrame({'feature1': [6, 3], 'feature2': [7, 8]})\n",
    "print(f\"새로운 데이터 예측: {ml_model.predict(new_data)}\")"
   ]
  },
  {
   "cell_type": "markdown",
   "metadata": {},
   "source": [
    "# 상속 연습"
   ]
  },
  {
   "cell_type": "code",
   "execution_count": null,
   "metadata": {},
   "outputs": [],
   "source": [
    "# 1) 부모 클래스: 기본 데이터 전처리 클래스\n",
    "class DataPreprocessor:\n",
    "    def __init__(self, df):\n",
    "        self.df = df\n",
    "\n",
    "    def fill_missing(self, column, value):\n",
    "        self.df[column].fillna(value, inplace=True)\n",
    "\n",
    "    def drop_columns(self, columns):\n",
    "        self.df.drop(columns=columns, inplace=True)\n",
    "\n",
    "    def normalize_column(self, column):\n",
    "        min_val = self.df[column].min()\n",
    "        max_val = self.df[column].max()\n",
    "        # 예외 처리: max_val == min_val인 경우 모든 값을 0으로 설정\n",
    "        if max_val == min_val:\n",
    "            self.df[column] = 0\n",
    "        else:\n",
    "            self.df[column] = (self.df[column] - min_val) / (max_val - min_val)\n",
    "\n",
    "    def get_data(self):\n",
    "        return self.df\n",
    "\n",
    "# 2) 자식 클래스: 범주형 데이터 처리 기능 추가\n",
    "class AdvancedPreprocessor(DataPreprocessor):\n",
    "    def __init__(self, df):\n",
    "        super().__init__(df)\n",
    "\n",
    "    def encode_categorical(self, column):\n",
    "        encoded_df = pd.get_dummies(self.df[column], prefix=column, drop_first=True)\n",
    "        self.df.drop(columns=[column], inplace=True)\n",
    "        self.df = pd.concat([self.df, encoded_df], axis=1)\n",
    "\n",
    "# 3) 부모 클래스: 기본 머신러닝 모델 클래스\n",
    "class MLModel:\n",
    "    def __init__(self, model=None):\n",
    "        self.model = model if model else RandomForestClassifier()\n",
    "\n",
    "    def train(self, X, y):\n",
    "        self.X_train, self.X_test, self.y_train, self.y_test = train_test_split(\n",
    "            X, y, test_size=0.2, random_state=42\n",
    "        )\n",
    "        self.model.fit(self.X_train, self.y_train)\n",
    "\n",
    "    def evaluate(self):\n",
    "        predictions = self.model.predict(self.X_test)\n",
    "        acc = accuracy_score(self.y_test, predictions)\n",
    "        return acc\n",
    "\n",
    "    def predict(self, X):\n",
    "        return self.model.predict(X)\n",
    "\n",
    "# 4) 자식 클래스: 로지스틱 회귀 모델을 기본으로 설정\n",
    "class LogisticModel(MLModel):\n",
    "    def __init__(self):\n",
    "        super().__init__(model=LogisticRegression())"
   ]
  },
  {
   "cell_type": "code",
   "execution_count": null,
   "metadata": {},
   "outputs": [],
   "source": [
    "# -----------------------------\n",
    "# (A) 데이터 생성 및 전처리\n",
    "# -----------------------------\n",
    "df_data = {\n",
    "    'age': [25, 30, 35, None, 45],\n",
    "    'income': [4000, 5000, None, 7000, 8000],\n",
    "    'gender': ['M', 'F', 'F', 'M', 'F']\n",
    "}\n",
    "df = pd.DataFrame(df_data)\n",
    "\n",
    "# AdvancedPreprocessor 사용\n",
    "preprocessor = AdvancedPreprocessor(df)\n",
    "preprocessor.fill_missing('age', 30)\n",
    "preprocessor.fill_missing('income', 5000)\n",
    "preprocessor.encode_categorical('gender')\n",
    "preprocessor.normalize_column('income')  # income 열 정규화\n",
    "processed_df = preprocessor.get_data()\n",
    "\n",
    "print(\"전처리 후 데이터프레임:\")\n",
    "print(processed_df)\n",
    "\n",
    "# -----------------------------\n",
    "# (B) 모델 학습 및 평가\n",
    "# -----------------------------\n",
    "# 타깃 데이터 추가\n",
    "processed_df['target'] = [0, 1, 1, 0, 1]\n",
    "\n",
    "# 독립 변수와 종속 변수 분리\n",
    "X = processed_df.drop(columns=['target'])\n",
    "y = processed_df['target']\n",
    "\n",
    "# LogisticModel로 학습 및 평가\n",
    "logistic_model = LogisticModel()\n",
    "logistic_model.train(X, y)\n",
    "accuracy = logistic_model.evaluate()\n",
    "print(f\"\\n[LogisticRegression 모델 평가] 정확도: {accuracy:.4f}\")\n",
    "\n",
    "# -----------------------------\n",
    "# (C) 새로운 데이터 예측\n",
    "# -----------------------------\n",
    "new_data = pd.DataFrame({\n",
    "    'age': [33],\n",
    "    'income': [6000],\n",
    "    'gender_F': [1]  # 범주형 인코딩된 데이터\n",
    "})\n",
    "prediction = logistic_model.predict(new_data)\n",
    "print(f\"새로운 샘플 예측 결과: {prediction}\")\n"
   ]
  }
 ],
 "metadata": {
  "kernelspec": {
   "display_name": "Python 3",
   "language": "python",
   "name": "python3"
  },
  "language_info": {
   "codemirror_mode": {
    "name": "ipython",
    "version": 3
   },
   "file_extension": ".py",
   "mimetype": "text/x-python",
   "name": "python",
   "nbconvert_exporter": "python",
   "pygments_lexer": "ipython3",
   "version": "3.13.1"
  }
 },
 "nbformat": 4,
 "nbformat_minor": 2
}
