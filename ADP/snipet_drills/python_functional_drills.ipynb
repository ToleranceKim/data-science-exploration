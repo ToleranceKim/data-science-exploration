{
 "cells": [
  {
   "cell_type": "markdown",
   "metadata": {},
   "source": [
    "# 매출 데이터의 합계와 평균 계산 (map, reduce, enumerate 활용)\n",
    "- 설명\n",
    "- map: 매출 데이터를 float 타입으로 변환합니다.\n",
    "- reduce: 데이터를 합산하여 총합을 계산합니다.\n",
    "- enumerate: 데이터 인덱스를 추가하여 매출 데이터의 위치를 추적합니다."
   ]
  },
  {
   "cell_type": "code",
   "execution_count": null,
   "metadata": {},
   "outputs": [],
   "source": [
    "from functools import reduce\n",
    "import random\n",
    "\n",
    "# 1) 1백만 건의 매출 데이터 생성\n",
    "sales_data = [random.randint(1, 1000) for _ in range(1_000_000)]\n",
    "\n",
    "# 2) enumerate를 사용하여 데이터에 인덱스 추가\n",
    "indexed_sales_data = list(enumerate(sales_data))\n",
    "\n",
    "# 3) map: (인덱스, 값) -> (인덱스, float(값))\n",
    "float_sales_data = list(map(lambda x: (x[0], float(x[1])), indexed_sales_data))\n",
    "\n",
    "# 4) reduce: 매출 값만 추출하여 총합 계산\n",
    "total_sales = reduce(lambda acc, item: acc + item[1], float_sales_data, 0.0)\n",
    "\n",
    "# 5) 평균 계산\n",
    "average_sales = total_sales / len(float_sales_data)\n",
    "\n",
    "print(f\"총 매출 합계: {total_sales}\")\n",
    "print(f\"평균 매출: {average_sales}\")\n"
   ]
  },
  {
   "cell_type": "markdown",
   "metadata": {},
   "source": [
    "# 센서 데이터 정제 및 분석 (filter, map, reduce, enumerate 활용)\n",
    "- 설명\n",
    "- filter: 센서 데이터 중 음수나 10만 초과 값은 제거합니다.\n",
    "- map: 센서 데이터를 float 타입으로 변환합니다.\n",
    "- reduce: 센서 값의 총합을 계산합니다.\n",
    "- enumerate: 센서 데이터의 위치를 추적합니다."
   ]
  },
  {
   "cell_type": "code",
   "execution_count": null,
   "metadata": {},
   "outputs": [],
   "source": [
    "from functools import reduce\n",
    "import random\n",
    "\n",
    "# 1) 50만 건의 센서 데이터 생성\n",
    "sensor_data = [random.randint(-10000, 200000) for _ in range(500_000)]\n",
    "\n",
    "# 2) enumerate로 센서 데이터에 인덱스 추가\n",
    "indexed_sensor_data = list(enumerate(sensor_data))\n",
    "\n",
    "# 3) filter: 올바른 범위(0 <= x <= 100000)만 남김\n",
    "valid_data = list(filter(lambda x: 0 <= x[1] <= 100_000, indexed_sensor_data))\n",
    "\n",
    "# 4) map: (인덱스, 값) -> (인덱스, float(값))\n",
    "valid_data_float = list(map(lambda x: (x[0], float(x[1])), valid_data))\n",
    "\n",
    "# 5) reduce: 센서 값만 추출하여 총합 계산\n",
    "total_valid = reduce(lambda acc, item: acc + item[1], valid_data_float, 0.0)\n",
    "\n",
    "# 정상 데이터 개수와 평균 계산\n",
    "count_valid = len(valid_data_float)\n",
    "average_valid = total_valid / count_valid if count_valid > 0 else 0\n",
    "\n",
    "print(f\"정상 데이터 개수: {count_valid}\")\n",
    "print(f\"총 센서값 합계: {total_valid}\")\n",
    "print(f\"평균 센서값: {average_valid}\")"
   ]
  },
  {
   "cell_type": "markdown",
   "metadata": {},
   "source": [
    "# 여러 데이터셋 결합과 분석 (zip, filter, map, enumerate 활용)\n",
    "- 설명\n",
    "- zip: 두 데이터셋을 병합합니다.\n",
    "- filter: ID가 동일한 데이터만 선별합니다.\n",
    "- map: 병합 데이터를 (인덱스, ID, A, B)로 변환합니다.\n",
    "- enumerate: 결합된 데이터에 로컬 인덱스를 추가합니다."
   ]
  },
  {
   "cell_type": "code",
   "execution_count": 1,
   "metadata": {},
   "outputs": [
    {
     "name": "stdout",
     "output_type": "stream",
     "text": [
      "유효한 데이터 개수: 300000\n",
      "상위 5개 (인덱스, ID, A, B): [(0, 0, 394, 312), (1, 1, 476, 427), (2, 2, 983, 123), (3, 3, 547, 267), (4, 4, 904, 301)]\n",
      "상위 5개 종합 지표: [706, 903, 1106, 814, 1205]\n"
     ]
    }
   ],
   "source": [
    "import random\n",
    "\n",
    "# 1) 30만 유저 ID와 활동 지표 A, B 생성\n",
    "user_ids = list(range(300_000))\n",
    "activities_A = [random.randint(0, 1000) for _ in range(300_000)]\n",
    "activities_B = [random.randint(0, 500) for _ in range(300_000)]\n",
    "\n",
    "# 2) 각 데이터셋 생성\n",
    "dataset_A = list(zip(user_ids, activities_A))\n",
    "dataset_B = list(zip(user_ids, activities_B))\n",
    "\n",
    "# 3) zip: 두 데이터셋 병합\n",
    "merged = list(zip(dataset_A, dataset_B))\n",
    "\n",
    "# 4) filter: 동일한 ID를 가진 데이터만 선별\n",
    "valid_merged = list(filter(lambda x: x[0][0] == x[1][0], merged))\n",
    "\n",
    "# 5) enumerate: 인덱스 추가\n",
    "indexed_valid = list(enumerate(valid_merged))\n",
    "\n",
    "# 6) map: (인덱스, ((ID, A), (ID, B))) -> (인덱스, ID, A, B)\n",
    "processed_data = list(map(lambda x: (\n",
    "    x[0],            # 인덱스\n",
    "    x[1][0][0],      # ID\n",
    "    x[1][0][1],      # A\n",
    "    x[1][1][1]       # B\n",
    "), indexed_valid))\n",
    "\n",
    "# A, B 합산 지표 계산\n",
    "combined_metric = [a + b for (_, _, a, b) in processed_data]\n",
    "\n",
    "print(f\"유효한 데이터 개수: {len(processed_data)}\")\n",
    "print(f\"상위 5개 (인덱스, ID, A, B): {processed_data[:5]}\")\n",
    "print(f\"상위 5개 종합 지표: {combined_metric[:5]}\")"
   ]
  }
 ],
 "metadata": {
  "kernelspec": {
   "display_name": "Python 3",
   "language": "python",
   "name": "python3"
  },
  "language_info": {
   "codemirror_mode": {
    "name": "ipython",
    "version": 3
   },
   "file_extension": ".py",
   "mimetype": "text/x-python",
   "name": "python",
   "nbconvert_exporter": "python",
   "pygments_lexer": "ipython3",
   "version": "3.13.1"
  }
 },
 "nbformat": 4,
 "nbformat_minor": 2
}
