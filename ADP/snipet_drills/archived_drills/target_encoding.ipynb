{
 "cells": [
  {
   "cell_type": "code",
   "execution_count": null,
   "metadata": {},
   "outputs": [],
   "source": [
    "import pandas as pd\n",
    "import numpy as np\n",
    "from sklearn.model_selection import StratifiedKFold\n",
    "from category_encoders import TargetEncoder\n",
    "\n",
    "# 예제 데이터 생성\n",
    "np.random.seed(42)\n",
    "data = {\n",
    "    'Profession': np.random.choice(['Engineer', 'Doctor', 'Teacher', 'Artist'], size=100),\n",
    "    'Degree': np.random.choice(['B.Sc', 'B.Tech', 'M.Sc', 'MBA'], size=100),\n",
    "    'Depression': np.random.choice([0, 1], size=100, p=[0.7, 0.3])\n",
    "}\n",
    "\n",
    "df = pd.DataFrame(data)\n",
    "\n",
    "# Train/Test Split (연습용으로 동일한 데이터 사용)\n",
    "train = df.copy()\n",
    "test = df.sample(frac=0.2, random_state=42)  # 테스트 데이터는 20% 추출"
   ]
  },
  {
   "cell_type": "code",
   "execution_count": null,
   "metadata": {},
   "outputs": [],
   "source": [
    "# Stratified K-Fold 설정\n",
    "n_splits = 5\n",
    "kf = StratifiedKFold(n_splits=n_splits, shuffle=True, random_state=42)\n",
    "\n",
    "# TargetEncoder 설정\n",
    "target_encoder = TargetEncoder(cols=['Profession', 'Degree'])\n",
    "\n",
    "# Target Encoding 수행\n",
    "for fold, (train_index, val_index) in enumerate(kf.split(train, train['Depression'])):\n",
    "    train_fold = train.iloc[train_index]\n",
    "    val_fold = train.iloc[val_index]\n",
    "\n",
    "    # 훈련 데이터로 인코더 학습\n",
    "    train_encoded = target_encoder.fit_transform(\n",
    "        train_fold[['Profession', 'Degree']], train_fold['Depression']\n",
    "    )\n",
    "\n",
    "    # 검증 데이터는 transform만 수행\n",
    "    val_encoded = target_encoder.transform(val_fold[['Profession', 'Degree']])\n",
    "\n",
    "    # 결과 반영\n",
    "    train.loc[val_index, ['Profession', 'Degree']] = val_encoded\n",
    "\n",
    "    print(f\"Fold {fold + 1} completed.\")\n",
    "\n",
    "# 테스트 데이터 인코딩\n",
    "test_encoded = target_encoder.transform(test[['Profession', 'Degree']])\n",
    "test[['Profession', 'Degree']] = test_encoded"
   ]
  },
  {
   "cell_type": "code",
   "execution_count": null,
   "metadata": {},
   "outputs": [],
   "source": [
    "# 결과 확인\n",
    "print(\"\\nEncoded Train Sample:\")\n",
    "print(train.head())\n",
    "print(\"\\nEncoded Test Sample:\")\n",
    "print(test.head())"
   ]
  }
 ],
 "metadata": {
  "language_info": {
   "name": "python"
  }
 },
 "nbformat": 4,
 "nbformat_minor": 2
}
