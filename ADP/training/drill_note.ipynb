{
 "cells": [
  {
   "cell_type": "code",
   "execution_count": 1,
   "metadata": {},
   "outputs": [
    {
     "name": "stdout",
     "output_type": "stream",
     "text": [
      "<class 'pandas.core.frame.DataFrame'>\n",
      "RangeIndex: 2111 entries, 0 to 2110\n",
      "Data columns (total 19 columns):\n",
      " #   Column                          Non-Null Count  Dtype  \n",
      "---  ------                          --------------  -----  \n",
      " 0   id                              2111 non-null   object \n",
      " 1   Gender                          2111 non-null   object \n",
      " 2   Age                             2111 non-null   int64  \n",
      " 3   Height                          2111 non-null   float64\n",
      " 4   Weight                          2111 non-null   int64  \n",
      " 5   family_history_with_overweight  2111 non-null   object \n",
      " 6   FAVC                            2111 non-null   object \n",
      " 7   FCVC                            2111 non-null   object \n",
      " 8   NCP                             2111 non-null   int64  \n",
      " 9   CAEC                            2111 non-null   object \n",
      " 10  SMOKE                           2111 non-null   object \n",
      " 11  CH2O                            2111 non-null   object \n",
      " 12  SCC                             2111 non-null   object \n",
      " 13  FAF                             2111 non-null   object \n",
      " 14  TUE                             2111 non-null   object \n",
      " 15  CALC                            2111 non-null   object \n",
      " 16  MTRANS                          2111 non-null   object \n",
      " 17  NObeyesdad                      2111 non-null   object \n",
      " 18  BMI                             2111 non-null   float64\n",
      "dtypes: float64(2), int64(3), object(14)\n",
      "memory usage: 313.5+ KB\n",
      "None\n",
      "               Age       Height       Weight          NCP          BMI\n",
      "count  2111.000000  2111.000000  2111.000000  2111.000000  2111.000000\n",
      "mean     24.315964     1.701677    86.588820     2.687826    29.700159\n",
      "std       6.357078     0.093305    26.188572     0.809680     8.011337\n",
      "min      14.000000     1.450000    39.000000     1.000000    12.998685\n",
      "25%      20.000000     1.630000    65.500000     3.000000    24.325802\n",
      "50%      23.000000     1.700499    83.000000     3.000000    28.719089\n",
      "75%      26.000000     1.768464   107.000000     3.000000    36.016501\n",
      "max      61.000000     1.980000   173.000000     4.000000    50.811753\n"
     ]
    }
   ],
   "source": [
    "import pandas as pd\n",
    "import matplotlib.pyplot as plt\n",
    "import seaborn as sns\n",
    "\n",
    "# 데이터 로드\n",
    "df = pd.read_csv(r\"data\\ObesityDataSet_cleaned_and_data_sinthetic.csv\")\n",
    "\n",
    "print(df.info())\n",
    "print(df.describe())\n"
   ]
  },
  {
   "cell_type": "code",
   "execution_count": 15,
   "metadata": {},
   "outputs": [
    {
     "data": {
      "text/plain": [
       "Index(['id', 'Gender', 'family_history_with_overweight', 'FAVC', 'FCVC',\n",
       "       'CAEC', 'SMOKE', 'CH2O', 'SCC', 'FAF', 'TUE', 'CALC', 'MTRANS',\n",
       "       'NObeyesdad'],\n",
       "      dtype='object')"
      ]
     },
     "execution_count": 15,
     "metadata": {},
     "output_type": "execute_result"
    }
   ],
   "source": [
    "categorical_columns = df.select_dtypes(include=['object']).columns\n",
    "categorical_columns"
   ]
  }
 ],
 "metadata": {
  "kernelspec": {
   "display_name": "ds_env",
   "language": "python",
   "name": "python3"
  },
  "language_info": {
   "codemirror_mode": {
    "name": "ipython",
    "version": 3
   },
   "file_extension": ".py",
   "mimetype": "text/x-python",
   "name": "python",
   "nbconvert_exporter": "python",
   "pygments_lexer": "ipython3",
   "version": "3.12.8"
  }
 },
 "nbformat": 4,
 "nbformat_minor": 2
}
